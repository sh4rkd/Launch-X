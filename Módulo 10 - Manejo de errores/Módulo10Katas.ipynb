{
  "cells": [
    {
      "cell_type": "markdown",
      "metadata": {
        "id": "4laAgJoofqRZ"
      },
      "source": [
        "# Ejercicios"
      ]
    },
    {
      "cell_type": "markdown",
      "metadata": {
        "id": "AnA5ed82fqRe"
      },
      "source": [
        "> At the end of the notebook is the section to run the examples"
      ]
    },
    {
      "cell_type": "markdown",
      "metadata": {
        "id": "_vf_nFf8fqRf"
      },
      "source": [
        "## Traceback example"
      ]
    },
    {
      "cell_type": "code",
      "execution_count": 2,
      "metadata": {
        "id": "peb3LhdjfqRg"
      },
      "outputs": [],
      "source": [
        "def trace_back_example():\n",
        "    open(\"/path/to/mars.jpg\")"
      ]
    },
    {
      "cell_type": "markdown",
      "metadata": {
        "id": "NnE8TGywfqRk"
      },
      "source": [
        "## Customizing  tracebacks exceptions"
      ]
    },
    {
      "cell_type": "code",
      "execution_count": 3,
      "metadata": {
        "id": "fyhz6iAPfqRm"
      },
      "outputs": [],
      "source": [
        "def custom_traceback():\n",
        "    try: open(\"config.txt\")\n",
        "    except FileNotFoundError: print(\"Couldn't find the config.txt file\")\n",
        "#Run a second time with a config directory created and exception will be wrong\n",
        "\n",
        "def custom_traceback_improved():\n",
        "    try: open(\"config.txt\")\n",
        "    except FileNotFoundError: print(\"Couldn't find the config.txt file\")\n",
        "    except IsADirectoryError: print(\"Found config.txt but it's a directory, couldn't read it.\")"
      ]
    },
    {
      "cell_type": "markdown",
      "metadata": {
        "id": "3gPGH2FqfqRn"
      },
      "source": [
        "## Using `as`"
      ]
    },
    {
      "cell_type": "code",
      "execution_count": 4,
      "metadata": {
        "id": "WqhwYrfjfqRo"
      },
      "outputs": [],
      "source": [
        "def using_as():\n",
        "    try: open(\"mars.jpg\")\n",
        "    except FileNotFoundError as err: \n",
        "        print(\"Got a problem reading the mars.jpg file\", err)"
      ]
    },
    {
      "cell_type": "markdown",
      "metadata": {
        "id": "0JHBaizhfqRp"
      },
      "source": [
        "## Using `as` for multiple exceptions"
      ]
    },
    {
      "cell_type": "code",
      "execution_count": 5,
      "metadata": {
        "id": "mMheF8gKfqRq"
      },
      "outputs": [],
      "source": [
        "def using_as_v2():\n",
        "    try: open(\"config.txt\")\n",
        "    except OSError as err: \n",
        "        if err.errno == 2:\n",
        "            print(\"Couldn't find the config.txt file\")\n",
        "        elif err.errno == 13:\n",
        "            print(\"found config.txt but couldn't open it\")"
      ]
    },
    {
      "cell_type": "markdown",
      "metadata": {
        "id": "9EDeua_1fqRr"
      },
      "source": [
        "## Astronauts example"
      ]
    },
    {
      "cell_type": "code",
      "execution_count": 6,
      "metadata": {
        "id": "xZCi0KYEfqRs"
      },
      "outputs": [],
      "source": [
        "def water_left(astronauts, water_left, days_left):\n",
        "    daily_usage = astronauts*11\n",
        "    total_usage= daily_usage*days_left\n",
        "    total_water_left = water_left - total_usage\n",
        "    if total_water_left < 0:\n",
        "        raise RuntimeError(f\"There is not enough water for {astronauts} astronauts after {days_left} days!\")\n",
        "    return f\"Total water left after {days_left} days is: {total_water_left} liters\""
      ]
    },
    {
      "cell_type": "markdown",
      "metadata": {
        "id": "0kVu3y8OfqRt"
      },
      "source": [
        "## Running section"
      ]
    },
    {
      "cell_type": "code",
      "execution_count": 7,
      "metadata": {
        "colab": {
          "base_uri": "https://localhost:8080/",
          "height": 235
        },
        "id": "98IvFRqWfqRu",
        "outputId": "c2c44564-af0b-48b4-8c45-cb468d160d3e"
      },
      "outputs": [
        {
          "output_type": "error",
          "ename": "FileNotFoundError",
          "evalue": "ignored",
          "traceback": [
            "\u001b[0;31m---------------------------------------------------------------------------\u001b[0m",
            "\u001b[0;31mFileNotFoundError\u001b[0m                         Traceback (most recent call last)",
            "\u001b[0;32m<ipython-input-7-2f4b949a0100>\u001b[0m in \u001b[0;36m<module>\u001b[0;34m()\u001b[0m\n\u001b[0;32m----> 1\u001b[0;31m \u001b[0mtrace_back_example\u001b[0m\u001b[0;34m(\u001b[0m\u001b[0;34m)\u001b[0m\u001b[0;34m\u001b[0m\u001b[0;34m\u001b[0m\u001b[0m\n\u001b[0m",
            "\u001b[0;32m<ipython-input-2-58ca1b54b120>\u001b[0m in \u001b[0;36mtrace_back_example\u001b[0;34m()\u001b[0m\n\u001b[1;32m      1\u001b[0m \u001b[0;32mdef\u001b[0m \u001b[0mtrace_back_example\u001b[0m\u001b[0;34m(\u001b[0m\u001b[0;34m)\u001b[0m\u001b[0;34m:\u001b[0m\u001b[0;34m\u001b[0m\u001b[0;34m\u001b[0m\u001b[0m\n\u001b[0;32m----> 2\u001b[0;31m     \u001b[0mopen\u001b[0m\u001b[0;34m(\u001b[0m\u001b[0;34m\"/path/to/mars.jpg\"\u001b[0m\u001b[0;34m)\u001b[0m\u001b[0;34m\u001b[0m\u001b[0;34m\u001b[0m\u001b[0m\n\u001b[0m",
            "\u001b[0;31mFileNotFoundError\u001b[0m: [Errno 2] No such file or directory: '/path/to/mars.jpg'"
          ]
        }
      ],
      "source": [
        "trace_back_example()"
      ]
    },
    {
      "cell_type": "code",
      "source": [
        "custom_traceback()"
      ],
      "metadata": {
        "id": "H4GyVBNbgi_z",
        "outputId": "5515fb5f-8ebb-4eb2-d335-5256da011e3d",
        "colab": {
          "base_uri": "https://localhost:8080/"
        }
      },
      "execution_count": 8,
      "outputs": [
        {
          "output_type": "stream",
          "name": "stdout",
          "text": [
            "Couldn't find the config.txt file\n"
          ]
        }
      ]
    },
    {
      "cell_type": "code",
      "source": [
        "custom_traceback_improved()"
      ],
      "metadata": {
        "id": "fYnZs1x8gtHy",
        "outputId": "5fb6a053-69ea-4d53-eb01-773c7af5f56e",
        "colab": {
          "base_uri": "https://localhost:8080/"
        }
      },
      "execution_count": 9,
      "outputs": [
        {
          "output_type": "stream",
          "name": "stdout",
          "text": [
            "Couldn't find the config.txt file\n"
          ]
        }
      ]
    },
    {
      "cell_type": "code",
      "source": [
        "using_as_v2()"
      ],
      "metadata": {
        "id": "3ye4KDwQgv75",
        "outputId": "e8c18b6a-0d39-4bd0-b10d-5cbcdab55867",
        "colab": {
          "base_uri": "https://localhost:8080/"
        }
      },
      "execution_count": 10,
      "outputs": [
        {
          "output_type": "stream",
          "name": "stdout",
          "text": [
            "Couldn't find the config.txt file\n"
          ]
        }
      ]
    },
    {
      "cell_type": "code",
      "source": [
        "water_left(7, 15, 14)"
      ],
      "metadata": {
        "id": "jKkgiZx5gyhR",
        "outputId": "533acc63-a9a2-48e9-ef73-0d2965faa2c0",
        "colab": {
          "base_uri": "https://localhost:8080/",
          "height": 269
        }
      },
      "execution_count": 11,
      "outputs": [
        {
          "output_type": "error",
          "ename": "RuntimeError",
          "evalue": "ignored",
          "traceback": [
            "\u001b[0;31m---------------------------------------------------------------------------\u001b[0m",
            "\u001b[0;31mRuntimeError\u001b[0m                              Traceback (most recent call last)",
            "\u001b[0;32m<ipython-input-11-85881ddb01b3>\u001b[0m in \u001b[0;36m<module>\u001b[0;34m()\u001b[0m\n\u001b[0;32m----> 1\u001b[0;31m \u001b[0mwater_left\u001b[0m\u001b[0;34m(\u001b[0m\u001b[0;36m7\u001b[0m\u001b[0;34m,\u001b[0m \u001b[0;36m15\u001b[0m\u001b[0;34m,\u001b[0m \u001b[0;36m14\u001b[0m\u001b[0;34m)\u001b[0m\u001b[0;34m\u001b[0m\u001b[0;34m\u001b[0m\u001b[0m\n\u001b[0m",
            "\u001b[0;32m<ipython-input-6-7176a1c2a2e5>\u001b[0m in \u001b[0;36mwater_left\u001b[0;34m(astronauts, water_left, days_left)\u001b[0m\n\u001b[1;32m      4\u001b[0m     \u001b[0mtotal_water_left\u001b[0m \u001b[0;34m=\u001b[0m \u001b[0mwater_left\u001b[0m \u001b[0;34m-\u001b[0m \u001b[0mtotal_usage\u001b[0m\u001b[0;34m\u001b[0m\u001b[0;34m\u001b[0m\u001b[0m\n\u001b[1;32m      5\u001b[0m     \u001b[0;32mif\u001b[0m \u001b[0mtotal_water_left\u001b[0m \u001b[0;34m<\u001b[0m \u001b[0;36m0\u001b[0m\u001b[0;34m:\u001b[0m\u001b[0;34m\u001b[0m\u001b[0;34m\u001b[0m\u001b[0m\n\u001b[0;32m----> 6\u001b[0;31m         \u001b[0;32mraise\u001b[0m \u001b[0mRuntimeError\u001b[0m\u001b[0;34m(\u001b[0m\u001b[0;34mf\"There is not enough water for {astronauts} astronauts after {days_left} days!\"\u001b[0m\u001b[0;34m)\u001b[0m\u001b[0;34m\u001b[0m\u001b[0;34m\u001b[0m\u001b[0m\n\u001b[0m\u001b[1;32m      7\u001b[0m     \u001b[0;32mreturn\u001b[0m \u001b[0;34mf\"Total water left after {days_left} days is: {total_water_left} liters\"\u001b[0m\u001b[0;34m\u001b[0m\u001b[0;34m\u001b[0m\u001b[0m\n",
            "\u001b[0;31mRuntimeError\u001b[0m: There is not enough water for 7 astronauts after 14 days!"
          ]
        }
      ]
    }
  ],
  "metadata": {
    "interpreter": {
      "hash": "24015ff2fa19fc1f82e93907bcc39bd93cf856d437f986557e956ba671379c70"
    },
    "kernelspec": {
      "display_name": "Python 3.10.2 64-bit",
      "language": "python",
      "name": "python3"
    },
    "language_info": {
      "codemirror_mode": {
        "name": "ipython",
        "version": 3
      },
      "file_extension": ".py",
      "mimetype": "text/x-python",
      "name": "python",
      "nbconvert_exporter": "python",
      "pygments_lexer": "ipython3",
      "version": "3.10.2"
    },
    "orig_nbformat": 4,
    "colab": {
      "name": "Kata10.ipynb",
      "provenance": []
    }
  },
  "nbformat": 4,
  "nbformat_minor": 0
}